{
 "cells": [
  {
   "cell_type": "code",
   "execution_count": 1,
   "id": "6795d723",
   "metadata": {},
   "outputs": [
    {
     "name": "stdout",
     "output_type": "stream",
     "text": [
      "Label Encoder Classes and Encoded Values:\n",
      "Class: Clicking -> Encoded as: 0\n",
      "Class: Mountain -> Encoded as: 1\n",
      "Class: Southern -> Encoded as: 2\n",
      "Class: none -> Encoded as: 3\n",
      "Class: other -> Encoded as: 4\n",
      "\n",
      "All classes in the label encoder:\n",
      "['Clicking' 'Mountain' 'Southern' 'none' 'other']\n"
     ]
    }
   ],
   "source": [
    "import numpy as np\n",
    "\n",
    "# Load the saved classes\n",
    "classes = np.load(\"../label_encoder_classes.npy\")\n",
    "\n",
    "# Print the mapping\n",
    "print(\"Label Encoder Classes and Encoded Values:\")\n",
    "for i, class_name in enumerate(classes):\n",
    "    print(f\"Class: {class_name} -> Encoded as: {i}\")\n",
    "\n",
    "# Print all classes\n",
    "print(\"\\nAll classes in the label encoder:\")\n",
    "print(classes)"
   ]
  }
 ],
 "metadata": {
  "kernelspec": {
   "display_name": "Python 3",
   "language": "python",
   "name": "python3"
  },
  "language_info": {
   "codemirror_mode": {
    "name": "ipython",
    "version": 3
   },
   "file_extension": ".py",
   "mimetype": "text/x-python",
   "name": "python",
   "nbconvert_exporter": "python",
   "pygments_lexer": "ipython3",
   "version": "3.10.12"
  }
 },
 "nbformat": 4,
 "nbformat_minor": 5
}
