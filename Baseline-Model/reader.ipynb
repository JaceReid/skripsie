{
 "cells": [
  {
   "cell_type": "code",
   "execution_count": 3,
   "id": "6795d723",
   "metadata": {},
   "outputs": [
    {
     "name": "stdout",
     "output_type": "stream",
     "text": [
      "['Clicking' 'Mountain' 'Southern' 'none' 'other']\n"
     ]
    }
   ],
   "source": [
    "import numpy as np\n",
    "from sklearn.preprocessing import LabelEncoder\n",
    "\n",
    "# Load the saved classes\n",
    "le_classes = np.load(\"../label_encoder_classes.npy\", allow_pickle=True)\n",
    "\n",
    "# Create a new LabelEncoder and set its classes\n",
    "le = LabelEncoder()\n",
    "le.classes_ = le_classes\n",
    "\n",
    "print(le.classes_)\n",
    "# Now you can use the LabelEncoder as before\n",
    "# Example usage:\n",
    "# encoded_labels = le.transform([\"label1\", \"label2\"])"
   ]
  }
 ],
 "metadata": {
  "kernelspec": {
   "display_name": "Python 3",
   "language": "python",
   "name": "python3"
  },
  "language_info": {
   "codemirror_mode": {
    "name": "ipython",
    "version": 3
   },
   "file_extension": ".py",
   "mimetype": "text/x-python",
   "name": "python",
   "nbconvert_exporter": "python",
   "pygments_lexer": "ipython3",
   "version": "3.10.12"
  }
 },
 "nbformat": 4,
 "nbformat_minor": 5
}
