{
 "cells": [
  {
   "cell_type": "code",
   "execution_count": 1,
   "id": "6795d723",
   "metadata": {},
   "outputs": [
    {
     "name": "stdout",
     "output_type": "stream",
     "text": [
      "Label Encoder Classes and Encoded Values:\n",
      "Class: Banded -> Encoded as: 0\n",
      "Class: Clicking -> Encoded as: 1\n",
      "Class: De -> Encoded as: 2\n",
      "Class: Eastern -> Encoded as: 3\n",
      "Class: Mountain -> Encoded as: 4\n",
      "Class: Painted -> Encoded as: 5\n",
      "Class: Peninsula -> Encoded as: 6\n",
      "Class: Rain -> Encoded as: 7\n",
      "Class: Southern -> Encoded as: 8\n",
      "Class: Weale -> Encoded as: 9\n",
      "Class: none -> Encoded as: 10\n",
      "Class: other -> Encoded as: 11\n",
      "\n",
      "All classes in the label encoder:\n",
      "['Banded' 'Clicking' 'De' 'Eastern' 'Mountain' 'Painted' 'Peninsula'\n",
      " 'Rain' 'Southern' 'Weale' 'none' 'other']\n"
     ]
    }
   ],
   "source": [
    "import numpy as np\n",
    "\n",
    "# Load the saved classes\n",
    "classes = np.load(\"../label_encoder_classes.npy\")\n",
    "\n",
    "# Print the mapping\n",
    "print(\"Label Encoder Classes and Encoded Values:\")\n",
    "for i, class_name in enumerate(classes):\n",
    "    print(f\"Class: {class_name} -> Encoded as: {i}\")\n",
    "\n",
    "# Print all classes\n",
    "print(\"\\nAll classes in the label encoder:\")\n",
    "print(classes)"
   ]
  }
 ],
 "metadata": {
  "kernelspec": {
   "display_name": "Python 3",
   "language": "python",
   "name": "python3"
  },
  "language_info": {
   "codemirror_mode": {
    "name": "ipython",
    "version": 3
   },
   "file_extension": ".py",
   "mimetype": "text/x-python",
   "name": "python",
   "nbconvert_exporter": "python",
   "pygments_lexer": "ipython3",
   "version": "3.10.12"
  }
 },
 "nbformat": 4,
 "nbformat_minor": 5
}
